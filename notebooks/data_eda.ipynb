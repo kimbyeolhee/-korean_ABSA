{
 "cells": [
  {
   "cell_type": "markdown",
   "metadata": {},
   "source": [
    "EDA\n",
    "============================"
   ]
  },
  {
   "cell_type": "code",
   "execution_count": 70,
   "metadata": {},
   "outputs": [],
   "source": [
    "import torch\n",
    "import pandas as pd\n",
    "import seaborn as sns\n",
    "import matplotlib.pyplot as plt\n",
    "import wordcloud"
   ]
  },
  {
   "cell_type": "markdown",
   "metadata": {},
   "source": [
    "### <span style=\"color:red\">***주의***</span>\n",
    "\n",
    "\n",
    " #### 아직 모두의 말뭉치 신청이 안나서, 이전 데이터를 기반으로 데이터 분석을 수행 했습니다."
   ]
  },
  {
   "cell_type": "code",
   "execution_count": 62,
   "metadata": {},
   "outputs": [],
   "source": [
    "torch.cuda.is_available()\n",
    "#seaborn 기초 테마 설정 및 한글 깨짐 수정.\n",
    "sns.set()\n",
    "sns.set_palette(\"husl\",3)\n",
    "plt.rcParams['font.family'] = 'NanumGothic'"
   ]
  },
  {
   "cell_type": "code",
   "execution_count": 63,
   "metadata": {},
   "outputs": [
    {
     "data": {
      "text/html": [
       "<div>\n",
       "<style scoped>\n",
       "    .dataframe tbody tr th:only-of-type {\n",
       "        vertical-align: middle;\n",
       "    }\n",
       "\n",
       "    .dataframe tbody tr th {\n",
       "        vertical-align: top;\n",
       "    }\n",
       "\n",
       "    .dataframe thead th {\n",
       "        text-align: right;\n",
       "    }\n",
       "</style>\n",
       "<table border=\"1\" class=\"dataframe\">\n",
       "  <thead>\n",
       "    <tr style=\"text-align: right;\">\n",
       "      <th></th>\n",
       "      <th>id</th>\n",
       "      <th>sentence_form</th>\n",
       "      <th>annotation</th>\n",
       "    </tr>\n",
       "  </thead>\n",
       "  <tbody>\n",
       "    <tr>\n",
       "      <th>0</th>\n",
       "      <td>nikluge-sa-2022-test-00001</td>\n",
       "      <td>하나 사려고 알아보는 중인데 맘에드는거 발견</td>\n",
       "      <td>[[제품 전체#일반, positive], [브랜드#일반, positive], [브랜...</td>\n",
       "    </tr>\n",
       "    <tr>\n",
       "      <th>1</th>\n",
       "      <td>nikluge-sa-2022-test-00002</td>\n",
       "      <td>동양인 피부톤과 잘 어울리고 우아한 분위기를 풍긴다네?</td>\n",
       "      <td>[[본품#품질, positive], [브랜드#품질, positive]]</td>\n",
       "    </tr>\n",
       "    <tr>\n",
       "      <th>2</th>\n",
       "      <td>nikluge-sa-2022-test-00003</td>\n",
       "      <td>근데 이건 마르살라보다 더 지나친 색 같은데..</td>\n",
       "      <td>[[제품 전체#디자인, negative], [본품#일반, negative], [본품...</td>\n",
       "    </tr>\n",
       "    <tr>\n",
       "      <th>3</th>\n",
       "      <td>nikluge-sa-2022-test-00004</td>\n",
       "      <td>나스 색조가 다 그렇지만서도 어데이셔스 라인은 진짜 색 기막히게 뽑는것 같다</td>\n",
       "      <td>[[제품 전체#디자인, positive], [본품#일반, positive], [본품...</td>\n",
       "    </tr>\n",
       "    <tr>\n",
       "      <th>4</th>\n",
       "      <td>nikluge-sa-2022-test-00005</td>\n",
       "      <td>색상만 보면 이걸 어떻게 발라.. 싶겠지만 의외로 너무너무 괜찮다</td>\n",
       "      <td>[[본품#일반, positive], [본품#다양성, positive], [패키지/구...</td>\n",
       "    </tr>\n",
       "    <tr>\n",
       "      <th>...</th>\n",
       "      <td>...</td>\n",
       "      <td>...</td>\n",
       "      <td>...</td>\n",
       "    </tr>\n",
       "    <tr>\n",
       "      <th>2122</th>\n",
       "      <td>nikluge-sa-2022-test-02123</td>\n",
       "      <td>간단한 충전으로 간편한 사용이 가능한거죠.</td>\n",
       "      <td>[[본품#편의성, positive], [패키지/구성품#편의성, positive]]</td>\n",
       "    </tr>\n",
       "    <tr>\n",
       "      <th>2123</th>\n",
       "      <td>nikluge-sa-2022-test-02124</td>\n",
       "      <td>눈을 가린 상태에서도 간편하게 조작이 가능하구요,</td>\n",
       "      <td>[[본품#품질, positive], [본품#편의성, positive], [패키지/구...</td>\n",
       "    </tr>\n",
       "    <tr>\n",
       "      <th>2124</th>\n",
       "      <td>nikluge-sa-2022-test-02125</td>\n",
       "      <td>다양한 마사지로 관자놀이부터 눈주변까지 부드럽고 강력한 마사지가 진행됩니다.</td>\n",
       "      <td>[[본품#품질, positive], [본품#편의성, positive], [패키지/구...</td>\n",
       "    </tr>\n",
       "    <tr>\n",
       "      <th>2125</th>\n",
       "      <td>nikluge-sa-2022-test-02126</td>\n",
       "      <td>본체부터 케이블, 설명서까지 깔끔하게 정리되어 보관이 가능하니 더더 맘에 쏙 들어요.</td>\n",
       "      <td>[[패키지/구성품#일반, positive], [패키지/구성품#편의성, positiv...</td>\n",
       "    </tr>\n",
       "    <tr>\n",
       "      <th>2126</th>\n",
       "      <td>nikluge-sa-2022-test-02127</td>\n",
       "      <td>사이즈가 컴펙트하고 무게감도 부담없어 가방에 쏙 넣고 다니기도 좋아요.</td>\n",
       "      <td>[[본품#편의성, positive], [패키지/구성품#편의성, positive]]</td>\n",
       "    </tr>\n",
       "  </tbody>\n",
       "</table>\n",
       "<p>2127 rows × 3 columns</p>\n",
       "</div>"
      ],
      "text/plain": [
       "                              id  \\\n",
       "0     nikluge-sa-2022-test-00001   \n",
       "1     nikluge-sa-2022-test-00002   \n",
       "2     nikluge-sa-2022-test-00003   \n",
       "3     nikluge-sa-2022-test-00004   \n",
       "4     nikluge-sa-2022-test-00005   \n",
       "...                          ...   \n",
       "2122  nikluge-sa-2022-test-02123   \n",
       "2123  nikluge-sa-2022-test-02124   \n",
       "2124  nikluge-sa-2022-test-02125   \n",
       "2125  nikluge-sa-2022-test-02126   \n",
       "2126  nikluge-sa-2022-test-02127   \n",
       "\n",
       "                                        sentence_form  \\\n",
       "0                            하나 사려고 알아보는 중인데 맘에드는거 발견   \n",
       "1                      동양인 피부톤과 잘 어울리고 우아한 분위기를 풍긴다네?   \n",
       "2                          근데 이건 마르살라보다 더 지나친 색 같은데..   \n",
       "3          나스 색조가 다 그렇지만서도 어데이셔스 라인은 진짜 색 기막히게 뽑는것 같다   \n",
       "4                색상만 보면 이걸 어떻게 발라.. 싶겠지만 의외로 너무너무 괜찮다   \n",
       "...                                               ...   \n",
       "2122                          간단한 충전으로 간편한 사용이 가능한거죠.   \n",
       "2123                      눈을 가린 상태에서도 간편하게 조작이 가능하구요,   \n",
       "2124       다양한 마사지로 관자놀이부터 눈주변까지 부드럽고 강력한 마사지가 진행됩니다.   \n",
       "2125  본체부터 케이블, 설명서까지 깔끔하게 정리되어 보관이 가능하니 더더 맘에 쏙 들어요.   \n",
       "2126          사이즈가 컴펙트하고 무게감도 부담없어 가방에 쏙 넣고 다니기도 좋아요.   \n",
       "\n",
       "                                             annotation  \n",
       "0     [[제품 전체#일반, positive], [브랜드#일반, positive], [브랜...  \n",
       "1               [[본품#품질, positive], [브랜드#품질, positive]]  \n",
       "2     [[제품 전체#디자인, negative], [본품#일반, negative], [본품...  \n",
       "3     [[제품 전체#디자인, positive], [본품#일반, positive], [본품...  \n",
       "4     [[본품#일반, positive], [본품#다양성, positive], [패키지/구...  \n",
       "...                                                 ...  \n",
       "2122      [[본품#편의성, positive], [패키지/구성품#편의성, positive]]  \n",
       "2123  [[본품#품질, positive], [본품#편의성, positive], [패키지/구...  \n",
       "2124  [[본품#품질, positive], [본품#편의성, positive], [패키지/구...  \n",
       "2125  [[패키지/구성품#일반, positive], [패키지/구성품#편의성, positiv...  \n",
       "2126      [[본품#편의성, positive], [패키지/구성품#편의성, positive]]  \n",
       "\n",
       "[2127 rows x 3 columns]"
      ]
     },
     "execution_count": 63,
     "metadata": {},
     "output_type": "execute_result"
    }
   ],
   "source": [
    "df = pd.read_json(\"../pred_data.json\")\n",
    "df"
   ]
  },
  {
   "cell_type": "code",
   "execution_count": 64,
   "metadata": {},
   "outputs": [
    {
     "data": {
      "text/html": [
       "<div>\n",
       "<style scoped>\n",
       "    .dataframe tbody tr th:only-of-type {\n",
       "        vertical-align: middle;\n",
       "    }\n",
       "\n",
       "    .dataframe tbody tr th {\n",
       "        vertical-align: top;\n",
       "    }\n",
       "\n",
       "    .dataframe thead th {\n",
       "        text-align: right;\n",
       "    }\n",
       "</style>\n",
       "<table border=\"1\" class=\"dataframe\">\n",
       "  <thead>\n",
       "    <tr style=\"text-align: right;\">\n",
       "      <th></th>\n",
       "      <th>id</th>\n",
       "      <th>sentence_form</th>\n",
       "      <th>annotation</th>\n",
       "      <th>sentence_len</th>\n",
       "    </tr>\n",
       "  </thead>\n",
       "  <tbody>\n",
       "    <tr>\n",
       "      <th>0</th>\n",
       "      <td>nikluge-sa-2022-test-00001</td>\n",
       "      <td>하나 사려고 알아보는 중인데 맘에드는거 발견</td>\n",
       "      <td>[[제품 전체#일반, positive], [브랜드#일반, positive], [브랜...</td>\n",
       "      <td>24</td>\n",
       "    </tr>\n",
       "    <tr>\n",
       "      <th>1</th>\n",
       "      <td>nikluge-sa-2022-test-00002</td>\n",
       "      <td>동양인 피부톤과 잘 어울리고 우아한 분위기를 풍긴다네?</td>\n",
       "      <td>[[본품#품질, positive], [브랜드#품질, positive]]</td>\n",
       "      <td>30</td>\n",
       "    </tr>\n",
       "    <tr>\n",
       "      <th>2</th>\n",
       "      <td>nikluge-sa-2022-test-00003</td>\n",
       "      <td>근데 이건 마르살라보다 더 지나친 색 같은데..</td>\n",
       "      <td>[[제품 전체#디자인, negative], [본품#일반, negative], [본품...</td>\n",
       "      <td>26</td>\n",
       "    </tr>\n",
       "    <tr>\n",
       "      <th>3</th>\n",
       "      <td>nikluge-sa-2022-test-00004</td>\n",
       "      <td>나스 색조가 다 그렇지만서도 어데이셔스 라인은 진짜 색 기막히게 뽑는것 같다</td>\n",
       "      <td>[[제품 전체#디자인, positive], [본품#일반, positive], [본품...</td>\n",
       "      <td>42</td>\n",
       "    </tr>\n",
       "    <tr>\n",
       "      <th>4</th>\n",
       "      <td>nikluge-sa-2022-test-00005</td>\n",
       "      <td>색상만 보면 이걸 어떻게 발라.. 싶겠지만 의외로 너무너무 괜찮다</td>\n",
       "      <td>[[본품#일반, positive], [본품#다양성, positive], [패키지/구...</td>\n",
       "      <td>36</td>\n",
       "    </tr>\n",
       "    <tr>\n",
       "      <th>...</th>\n",
       "      <td>...</td>\n",
       "      <td>...</td>\n",
       "      <td>...</td>\n",
       "      <td>...</td>\n",
       "    </tr>\n",
       "    <tr>\n",
       "      <th>2122</th>\n",
       "      <td>nikluge-sa-2022-test-02123</td>\n",
       "      <td>간단한 충전으로 간편한 사용이 가능한거죠.</td>\n",
       "      <td>[[본품#편의성, positive], [패키지/구성품#편의성, positive]]</td>\n",
       "      <td>23</td>\n",
       "    </tr>\n",
       "    <tr>\n",
       "      <th>2123</th>\n",
       "      <td>nikluge-sa-2022-test-02124</td>\n",
       "      <td>눈을 가린 상태에서도 간편하게 조작이 가능하구요,</td>\n",
       "      <td>[[본품#품질, positive], [본품#편의성, positive], [패키지/구...</td>\n",
       "      <td>27</td>\n",
       "    </tr>\n",
       "    <tr>\n",
       "      <th>2124</th>\n",
       "      <td>nikluge-sa-2022-test-02125</td>\n",
       "      <td>다양한 마사지로 관자놀이부터 눈주변까지 부드럽고 강력한 마사지가 진행됩니다.</td>\n",
       "      <td>[[본품#품질, positive], [본품#편의성, positive], [패키지/구...</td>\n",
       "      <td>42</td>\n",
       "    </tr>\n",
       "    <tr>\n",
       "      <th>2125</th>\n",
       "      <td>nikluge-sa-2022-test-02126</td>\n",
       "      <td>본체부터 케이블, 설명서까지 깔끔하게 정리되어 보관이 가능하니 더더 맘에 쏙 들어요.</td>\n",
       "      <td>[[패키지/구성품#일반, positive], [패키지/구성품#편의성, positiv...</td>\n",
       "      <td>47</td>\n",
       "    </tr>\n",
       "    <tr>\n",
       "      <th>2126</th>\n",
       "      <td>nikluge-sa-2022-test-02127</td>\n",
       "      <td>사이즈가 컴펙트하고 무게감도 부담없어 가방에 쏙 넣고 다니기도 좋아요.</td>\n",
       "      <td>[[본품#편의성, positive], [패키지/구성품#편의성, positive]]</td>\n",
       "      <td>39</td>\n",
       "    </tr>\n",
       "  </tbody>\n",
       "</table>\n",
       "<p>2127 rows × 4 columns</p>\n",
       "</div>"
      ],
      "text/plain": [
       "                              id  \\\n",
       "0     nikluge-sa-2022-test-00001   \n",
       "1     nikluge-sa-2022-test-00002   \n",
       "2     nikluge-sa-2022-test-00003   \n",
       "3     nikluge-sa-2022-test-00004   \n",
       "4     nikluge-sa-2022-test-00005   \n",
       "...                          ...   \n",
       "2122  nikluge-sa-2022-test-02123   \n",
       "2123  nikluge-sa-2022-test-02124   \n",
       "2124  nikluge-sa-2022-test-02125   \n",
       "2125  nikluge-sa-2022-test-02126   \n",
       "2126  nikluge-sa-2022-test-02127   \n",
       "\n",
       "                                        sentence_form  \\\n",
       "0                            하나 사려고 알아보는 중인데 맘에드는거 발견   \n",
       "1                      동양인 피부톤과 잘 어울리고 우아한 분위기를 풍긴다네?   \n",
       "2                          근데 이건 마르살라보다 더 지나친 색 같은데..   \n",
       "3          나스 색조가 다 그렇지만서도 어데이셔스 라인은 진짜 색 기막히게 뽑는것 같다   \n",
       "4                색상만 보면 이걸 어떻게 발라.. 싶겠지만 의외로 너무너무 괜찮다   \n",
       "...                                               ...   \n",
       "2122                          간단한 충전으로 간편한 사용이 가능한거죠.   \n",
       "2123                      눈을 가린 상태에서도 간편하게 조작이 가능하구요,   \n",
       "2124       다양한 마사지로 관자놀이부터 눈주변까지 부드럽고 강력한 마사지가 진행됩니다.   \n",
       "2125  본체부터 케이블, 설명서까지 깔끔하게 정리되어 보관이 가능하니 더더 맘에 쏙 들어요.   \n",
       "2126          사이즈가 컴펙트하고 무게감도 부담없어 가방에 쏙 넣고 다니기도 좋아요.   \n",
       "\n",
       "                                             annotation  sentence_len  \n",
       "0     [[제품 전체#일반, positive], [브랜드#일반, positive], [브랜...            24  \n",
       "1               [[본품#품질, positive], [브랜드#품질, positive]]            30  \n",
       "2     [[제품 전체#디자인, negative], [본품#일반, negative], [본품...            26  \n",
       "3     [[제품 전체#디자인, positive], [본품#일반, positive], [본품...            42  \n",
       "4     [[본품#일반, positive], [본품#다양성, positive], [패키지/구...            36  \n",
       "...                                                 ...           ...  \n",
       "2122      [[본품#편의성, positive], [패키지/구성품#편의성, positive]]            23  \n",
       "2123  [[본품#품질, positive], [본품#편의성, positive], [패키지/구...            27  \n",
       "2124  [[본품#품질, positive], [본품#편의성, positive], [패키지/구...            42  \n",
       "2125  [[패키지/구성품#일반, positive], [패키지/구성품#편의성, positiv...            47  \n",
       "2126      [[본품#편의성, positive], [패키지/구성품#편의성, positive]]            39  \n",
       "\n",
       "[2127 rows x 4 columns]"
      ]
     },
     "execution_count": 64,
     "metadata": {},
     "output_type": "execute_result"
    }
   ],
   "source": [
    "df[\"sentence_len\"] = df.sentence_form.str.len()\n",
    "df"
   ]
  },
  {
   "cell_type": "code",
   "execution_count": 65,
   "metadata": {},
   "outputs": [
    {
     "data": {
      "text/plain": [
       "count                             2127\n",
       "unique                            2125\n",
       "top       쉽게 넘어지지않으니, 넘어지거나 할 염려도 없어요.\n",
       "freq                                 2\n",
       "Name: sentence_form, dtype: object"
      ]
     },
     "execution_count": 65,
     "metadata": {},
     "output_type": "execute_result"
    }
   ],
   "source": [
    "df.sentence_form.describe()\n",
    "#중복되는 문장이 두개 존재."
   ]
  },
  {
   "cell_type": "code",
   "execution_count": 66,
   "metadata": {},
   "outputs": [
    {
     "data": {
      "text/plain": [
       "count    2127.000000\n",
       "mean       45.093089\n",
       "std        27.097100\n",
       "min         4.000000\n",
       "25%        25.000000\n",
       "50%        40.000000\n",
       "75%        59.000000\n",
       "max       207.000000\n",
       "Name: sentence_len, dtype: float64"
      ]
     },
     "execution_count": 66,
     "metadata": {},
     "output_type": "execute_result"
    }
   ],
   "source": [
    "df.sentence_len.describe()\n",
    "#평균적으로 문장의 길이가 60개 정도."
   ]
  },
  {
   "cell_type": "code",
   "execution_count": 67,
   "metadata": {},
   "outputs": [
    {
     "data": {
      "text/plain": [
       "Text(0.5, 1.0, 'sentence_len')"
      ]
     },
     "execution_count": 67,
     "metadata": {},
     "output_type": "execute_result"
    },
    {
     "data": {
      "image/png": "[encoded data removed]",
      "text/plain": [
       "<Figure size 640x480 with 1 Axes>"
      ]
     },
     "metadata": {},
     "output_type": "display_data"
    }
   ],
   "source": [
    "g = sns.histplot(data=df)\n",
    "plt.title(\"sentence_len\")"
   ]
  },
  {
   "cell_type": "code",
   "execution_count": null,
   "metadata": {},
   "outputs": [],
   "source": [
    "####워드클라우드로 어떤 단어가 많이 등장하는지 시각화 해볼 예정."
   ]
  },
  {
   "cell_type": "code",
   "execution_count": 68,
   "metadata": {},
   "outputs": [
    {
     "data": {
      "text/plain": [
       "count    2127.000000\n",
       "mean        4.516220\n",
       "std         2.389731\n",
       "min         0.000000\n",
       "25%         3.000000\n",
       "50%         4.000000\n",
       "75%         6.000000\n",
       "max        19.000000\n",
       "Name: annotation_len, dtype: float64"
      ]
     },
     "execution_count": 68,
     "metadata": {},
     "output_type": "execute_result"
    }
   ],
   "source": [
    "#annotation 분석해보기.\n",
    "df[\"annotation_len\"] = df.annotation.apply(len)\n",
    "df['annotation_len'].describe()"
   ]
  },
  {
   "cell_type": "markdown",
   "metadata": {},
   "source": [
    "#### 한 문장에 얼마나 속성이 많은지를 시각화\n",
    "##### 대체로 평균은 4~5개를 가지고, 최대 15개의 속성을 가지기도 했다."
   ]
  },
  {
   "cell_type": "code",
   "execution_count": 69,
   "metadata": {},
   "outputs": [
    {
     "data": {
      "text/plain": [
       "Text(0.5, 1.0, '속성의 개수')"
      ]
     },
     "execution_count": 69,
     "metadata": {},
     "output_type": "execute_result"
    },
    {
     "data": {
      "image/png": "[encoded data removed]",
      "text/plain": [
       "<Figure size 640x480 with 1 Axes>"
      ]
     },
     "metadata": {},
     "output_type": "display_data"
    }
   ],
   "source": [
    "sns.countplot(x=\"annotation_len\",data=df)\n",
    "plt.title(\"속성의 개수\")"
   ]
  },
  {
   "cell_type": "code",
   "execution_count": null,
   "metadata": {},
   "outputs": [],
   "source": []
  }
 ],
 "metadata": {
  "kernelspec": {
   "display_name": "Python 3 (ipykernel)",
   "language": "python",
   "name": "python3"
  },
  "language_info": {
   "codemirror_mode": {
    "name": "ipython",
    "version": 3
   },
   "file_extension": ".py",
   "mimetype": "text/x-python",
   "name": "python",
   "nbconvert_exporter": "python",
   "pygments_lexer": "ipython3",
   "version": "3.9.12"
  },
  "vscode": {
   "interpreter": {
    "hash": "37c3fa4f938169d2a8e5b4e83adb4b4e370f4ac7b8a599e8d38d0686059f61af"
   }
  }
 },
 "nbformat": 4,
 "nbformat_minor": 2
}
